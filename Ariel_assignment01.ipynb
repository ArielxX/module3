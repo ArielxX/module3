{
 "cells": [
  {
   "cell_type": "markdown",
   "metadata": {},
   "source": [
    "### Home assignment 01.\n",
    "\n",
    "Your goal is to follow this notebook and complete all the steps.\n",
    "\n",
    "Please, solve all these excersises (both on python and bash) _using the remote machine_: either in jupyter notebook or using bash.\n",
    "\n",
    "We ask you to start with signing this notebook in the following cell and printing some tech information. Please, just run the second cell without any changes.\n",
    "\n",
    "Good luck!"
   ]
  },
  {
   "cell_type": "code",
   "execution_count": 20,
   "metadata": {},
   "outputs": [],
   "source": [
    "first_name = 'Ariel'\n",
    "last_name = 'Cruz Cruz'"
   ]
  },
  {
   "cell_type": "code",
   "execution_count": 2,
   "metadata": {},
   "outputs": [
    {
     "name": "stdout",
     "output_type": "stream",
     "text": [
      "['/home/ml32020/ariel_key/module3', '/home/ml32020/ariel_key/miniconda3/lib/python39.zip', '/home/ml32020/ariel_key/miniconda3/lib/python3.9', '/home/ml32020/ariel_key/miniconda3/lib/python3.9/lib-dynload', '', '/home/ml32020/ariel_key/miniconda3/lib/python3.9/site-packages', '/home/ml32020/ariel_key/miniconda3/lib/python3.9/site-packages/IPython/extensions', '/home/ml32020/ariel_key/.ipython']\n",
      "3.9.5 (default, Jun  4 2021, 12:28:51) \n",
      "[GCC 7.5.0]\n"
     ]
    }
   ],
   "source": [
    "import sys\n",
    "print(sys.path)\n",
    "print(sys.version)"
   ]
  },
  {
   "cell_type": "markdown",
   "metadata": {},
   "source": [
    "#### Excersise 0\n",
    "Import `this` and read the zen of Python."
   ]
  },
  {
   "cell_type": "code",
   "execution_count": 3,
   "metadata": {},
   "outputs": [
    {
     "name": "stdout",
     "output_type": "stream",
     "text": [
      "The Zen of Python, by Tim Peters\n",
      "\n",
      "Beautiful is better than ugly.\n",
      "Explicit is better than implicit.\n",
      "Simple is better than complex.\n",
      "Complex is better than complicated.\n",
      "Flat is better than nested.\n",
      "Sparse is better than dense.\n",
      "Readability counts.\n",
      "Special cases aren't special enough to break the rules.\n",
      "Although practicality beats purity.\n",
      "Errors should never pass silently.\n",
      "Unless explicitly silenced.\n",
      "In the face of ambiguity, refuse the temptation to guess.\n",
      "There should be one-- and preferably only one --obvious way to do it.\n",
      "Although that way may not be obvious at first unless you're Dutch.\n",
      "Now is better than never.\n",
      "Although never is often better than *right* now.\n",
      "If the implementation is hard to explain, it's a bad idea.\n",
      "If the implementation is easy to explain, it may be a good idea.\n",
      "Namespaces are one honking great idea -- let's do more of those!\n"
     ]
    }
   ],
   "source": [
    "import this"
   ]
  },
  {
   "cell_type": "code",
   "execution_count": 4,
   "metadata": {},
   "outputs": [],
   "source": [
    "student_has_read_zen_of_python = True\n",
    "assert student_has_read_zen_of_python"
   ]
  },
  {
   "cell_type": "markdown",
   "metadata": {},
   "source": [
    "#### Excersise 1\n",
    "\n",
    "Read the docs on `isinstance` method and check whether the following objects belong to the proposed types (hint: `isinstance`).\n",
    "\n",
    "Additional excersise: visualize this correspondance matrix (object – type), e.g. using numpy and [pcolormesh](https://matplotlib.org/stable/api/_as_gen/matplotlib.pyplot.pcolormesh.html) for visualization."
   ]
  },
  {
   "cell_type": "code",
   "execution_count": 5,
   "metadata": {},
   "outputs": [],
   "source": [
    "list_of_objects = [\n",
    "    int,\n",
    "    2,\n",
    "    2.,\n",
    "    None,\n",
    "    object,\n",
    "    str,\n",
    "    str(2.),\n",
    "    float('2.0'),\n",
    "    'hello',\n",
    "    this,\n",
    "    dict,\n",
    "    list,\n",
    "    [dict],\n",
    "    {1: []}\n",
    "]\n",
    "\n",
    "list_of_types = [\n",
    "    int,\n",
    "    float,\n",
    "    object,\n",
    "#     module,\n",
    "    str,\n",
    "    dict,\n",
    "    list\n",
    "]"
   ]
  },
  {
   "cell_type": "code",
   "execution_count": 6,
   "metadata": {},
   "outputs": [
    {
     "data": {
      "text/plain": [
       "<matplotlib.collections.QuadMesh at 0x7f83af348d30>"
      ]
     },
     "execution_count": 6,
     "metadata": {},
     "output_type": "execute_result"
    },
    {
     "data": {
      "image/png": "[encoded data removed]",
      "text/plain": [
       "<Figure size 432x288 with 1 Axes>"
      ]
     },
     "metadata": {
      "needs_background": "light"
     },
     "output_type": "display_data"
    }
   ],
   "source": [
    "import numpy as np\n",
    "import matplotlib.pyplot as plt\n",
    "from matplotlib import colors as c\n",
    "\n",
    "instanse_mat = [[isinstance(x, y) for x in list_of_objects] for y in list_of_types]\n",
    "\n",
    "fig, ax = plt.subplots()\n",
    "\n",
    "plt.xlabel(\"Objects\")\n",
    "plt.ylabel(\"Types\")\n",
    "\n",
    "y = np.arange(6)\n",
    "plt.yticks(y, list_of_types)\n",
    "\n",
    "\n",
    "cMap = c.ListedColormap(['r','g'])\n",
    "ax.pcolormesh(instanse_mat, cmap=cMap)"
   ]
  },
  {
   "cell_type": "markdown",
   "metadata": {},
   "source": [
    "#### Excersise 2\n",
    "\n",
    "Set quotient and remainder of 89 divided by 11 to \"a\" and \"b\" variables *"
   ]
  },
  {
   "cell_type": "code",
   "execution_count": 7,
   "metadata": {},
   "outputs": [],
   "source": [
    "a = 89 // 11\n",
    "b = 89 % 11"
   ]
  },
  {
   "cell_type": "markdown",
   "metadata": {},
   "source": [
    "#### Excersise 3\n",
    "\n",
    "Calculate the next cells:\n",
    "```\n",
    "0) 10 ** 1000\n",
    "1) 1.0 / 10 ** 1000\n",
    "2) 1 / 10 ** 1000\n",
    "3) 10 ** 1000 / 1\n",
    "4) 1 / (1 / 10 ** 1000)\n",
    "```"
   ]
  },
  {
   "cell_type": "code",
   "execution_count": 8,
   "metadata": {},
   "outputs": [
    {
     "name": "stdout",
     "output_type": "stream",
     "text": [
      "10000000000000000000000000000000000000000000000000000000000000000000000000000000000000000000000000000000000000000000000000000000000000000000000000000000000000000000000000000000000000000000000000000000000000000000000000000000000000000000000000000000000000000000000000000000000000000000000000000000000000000000000000000000000000000000000000000000000000000000000000000000000000000000000000000000000000000000000000000000000000000000000000000000000000000000000000000000000000000000000000000000000000000000000000000000000000000000000000000000000000000000000000000000000000000000000000000000000000000000000000000000000000000000000000000000000000000000000000000000000000000000000000000000000000000000000000000000000000000000000000000000000000000000000000000000000000000000000000000000000000000000000000000000000000000000000000000000000000000000000000000000000000000000000000000000000000000000000000000000000000000000000000000000000000000000000000000000000000000000000000000000000000000000000000000000000000000\n",
      "1E-1000\n",
      "0.0\n",
      "1.000000000000000000000000000E+1000\n",
      "1E+1000\n"
     ]
    }
   ],
   "source": [
    "from decimal import Decimal\n",
    "\n",
    "print(10** 1000)\n",
    "print(Decimal(1.0) / Decimal(10 ** 1000))\n",
    "print(1 / 10** 1000)\n",
    "print(Decimal(10** 1000) / 1)\n",
    "print(1 / Decimal(1 / Decimal(10** 1000)))"
   ]
  },
  {
   "cell_type": "markdown",
   "metadata": {},
   "source": [
    "How to avoid these behaviours to receive correct results in steps 1-4?\n",
    "\n",
    "It is enough to provide your thoughts / seach the web for decisions and share the links / point to specific constructions in Python which were constructed to solve this problem."
   ]
  },
  {
   "cell_type": "markdown",
   "metadata": {},
   "source": [
    "Using decimal.Decimal we can use a better representation for this big numbers"
   ]
  },
  {
   "cell_type": "markdown",
   "metadata": {},
   "source": [
    "#### Excersise 4.1\n",
    "\n",
    "Check if string is a correct integer\n"
   ]
  },
  {
   "cell_type": "code",
   "execution_count": 9,
   "metadata": {},
   "outputs": [
    {
     "data": {
      "text/plain": [
       "True"
      ]
     },
     "execution_count": 9,
     "metadata": {},
     "output_type": "execute_result"
    }
   ],
   "source": [
    "s = 'abc'\n",
    "isinstance(s, str)"
   ]
  },
  {
   "cell_type": "markdown",
   "metadata": {},
   "source": [
    "#### Excersise 4.2\n",
    "\n",
    "Create a palindrom from given string. For example, \"abc\" -> \"abcba\""
   ]
  },
  {
   "cell_type": "code",
   "execution_count": 10,
   "metadata": {},
   "outputs": [
    {
     "data": {
      "text/plain": [
       "'abcdefgfedcba'"
      ]
     },
     "execution_count": 10,
     "metadata": {},
     "output_type": "execute_result"
    }
   ],
   "source": [
    "def get_palindrom(s):\n",
    "    return s[:-1] + s[-1] + s[-2::-1]\n",
    "\n",
    "get_palindrom('abcdefg')"
   ]
  },
  {
   "cell_type": "markdown",
   "metadata": {},
   "source": [
    "#### Excersise 4.3\n",
    "\n",
    "User inputs one's name into \"name\" variable. One can use `lowercase`, `UPPERCASE`, or `sOmeTHingLikeThatCaSE`. You need to turn this string into regular case used with names: `Firstletterisbigothersaresmall`."
   ]
  },
  {
   "cell_type": "code",
   "execution_count": 4,
   "metadata": {},
   "outputs": [
    {
     "name": "stdout",
     "output_type": "stream",
     "text": [
      "Helloiamuser\n",
      "Johndeere\n",
      "Firstnamelastname\n"
     ]
    }
   ],
   "source": [
    "name1 = 'HellOIamUsER'\n",
    "name2 = 'johndeere'\n",
    "name3 = 'FIRSTNAMELASTNAME'\n",
    "\n",
    "def Regularcase(s):\n",
    "    return s[0].upper() + s[1:].lower()\n",
    "\n",
    "print(Regularcase(name1))\n",
    "print(Regularcase(name2))\n",
    "print(Regularcase(name3))"
   ]
  },
  {
   "cell_type": "markdown",
   "metadata": {},
   "source": [
    "#### Excersise 4.4\n",
    "\n",
    "You have a string that consists of English letters and \".\", \",\", \"-\", \"!\", \"?\", \":\", \";\" symbols. Extract all words without punctuation from this string."
   ]
  },
  {
   "cell_type": "code",
   "execution_count": 14,
   "metadata": {},
   "outputs": [
    {
     "data": {
      "text/plain": [
       "'abbasdasdassq'"
      ]
     },
     "execution_count": 14,
     "metadata": {},
     "output_type": "execute_result"
    }
   ],
   "source": [
    "# Im not understanding the question if I need to return the not symbols letters or the opposite\n",
    "# In this case im returning the nonsymbols letters.\n",
    "# If was the other case you just need to change the if condition to False\n",
    "\n",
    "a = 'ab!basd.asd,as-?:s;q'\n",
    "b = ''\n",
    "for c in a:\n",
    "    if c.isalnum() == True:\n",
    "        b += c\n",
    "b"
   ]
  },
  {
   "cell_type": "markdown",
   "metadata": {},
   "source": [
    "#### Excersise 4.5\n",
    "\n",
    "Assign string `\"\"\"'''\\/'''\"\"\"` to Python variable (all 14 symbols)\n"
   ]
  },
  {
   "cell_type": "code",
   "execution_count": 13,
   "metadata": {},
   "outputs": [
    {
     "name": "stdout",
     "output_type": "stream",
     "text": [
      "\"\"\"'''\\/'''\"\"\"\n"
     ]
    }
   ],
   "source": [
    "a1 = '\\u0022'\n",
    "a2 = '\\u0027'\n",
    "s = a1*3+a2*3+'\\/' + a2*3 +a1*3\n",
    "print(s)"
   ]
  },
  {
   "cell_type": "markdown",
   "metadata": {},
   "source": [
    "#### Excersise 4.6\n",
    "\n",
    "Print pi number in a string  \"pi is approximately equal to ALMOSTPI\", where instead of ALMOSTPI you insert 22/7 with 3 digits after comma."
   ]
  },
  {
   "cell_type": "code",
   "execution_count": 83,
   "metadata": {},
   "outputs": [
    {
     "name": "stdout",
     "output_type": "stream",
     "text": [
      "3.143\n"
     ]
    }
   ],
   "source": [
    "ALMOSTPI = round(22/7, 3)\n",
    "pi = str(ALMOSTPI)\n",
    "print(pi)"
   ]
  },
  {
   "cell_type": "markdown",
   "metadata": {},
   "source": [
    "#### Excersise 5\n",
    "\n",
    "You have multiline text inside string variable named `text`. Create list of lines from that text."
   ]
  },
  {
   "cell_type": "code",
   "execution_count": 15,
   "metadata": {},
   "outputs": [
    {
     "name": "stdout",
     "output_type": "stream",
     "text": [
      "abc\n",
      "asdas\n",
      "asdjj\n",
      "['abc', 'asdas', 'asdjj']\n"
     ]
    }
   ],
   "source": [
    "text = 'abc\\nasdas\\nasdjj'\n",
    "print(text)\n",
    "\n",
    "list = text.split('\\n')\n",
    "print(list)"
   ]
  },
  {
   "cell_type": "markdown",
   "metadata": {},
   "source": [
    "#### Excersise 5\n",
    "Answer with your own words to one of the following questions. Your variant is based on your name and computed automatically in the next cell.\n",
    "\n",
    "Variant 1:\n",
    "Imagine, you are developing a vending machine. You need to keep your vending machine state: which items are presented on which shelves, how much money inside machine to give change, how much money user inserted in current time, which purchases users made etc. You need to create a data structure for that using known data types.\n",
    "\n",
    "Variant 2:\n",
    "Imagine, you are developing a messenger with direct messages, groups, different media types of messages, etc. You need to keep your messenger state in memory: all users with their data, which chats they have, etc. You need to create a data structure for that using known data types.\n",
    "\n",
    "Variant 3:\n",
    "Imagine, you are developing a staff management system for a mid-size corporation. You need to keep all organizational structure in memory: departments, employees, their personal data, positions, salaries, history of growth, who is whose boss, etc. You need to create a data structure for that using known data types."
   ]
  },
  {
   "cell_type": "code",
   "execution_count": 21,
   "metadata": {},
   "outputs": [
    {
     "name": "stdout",
     "output_type": "stream",
     "text": [
      "Your variant is 1\n"
     ]
    }
   ],
   "source": [
    "variant = hash(' '.join([first_name, last_name])) % 3 + 1\n",
    "print(f'Your variant is {variant}')"
   ]
  },
  {
   "cell_type": "markdown",
   "metadata": {},
   "source": [
    "To create this data structure we need to have the following information:\n",
    "\n",
    "    o For each item we need the prices and amount of this items inside the machine\n",
    "    o For each selling we need wich item was bought by the user and the amount of money the user payed\n",
    "    o Current amount of money inside de machine\n",
    "    \n",
    "Also we need a function to add a new sell and update the status of the data structure"
   ]
  },
  {
   "cell_type": "code",
   "execution_count": 72,
   "metadata": {},
   "outputs": [
    {
     "name": "stdout",
     "output_type": "stream",
     "text": [
      "Initial State:\n",
      "\n",
      "Money: 2\n",
      "Items: 5\n",
      "  item1: price: 3, amount: 3\n",
      "  item2: price: 4, amount: 5\n",
      "  item3: price: 4, amount: 8\n",
      "  item4: price: 5, amount: 7\n",
      "  item5: price: 4, amount: 1\n",
      "\n",
      "Buying item5 with $10: The machine doesn't have money to return!!\n",
      "Buying item4 with $8: The machine doesn't have money to return!!\n",
      "Buying item1 with $5: Successful purchase!\n",
      "Buying item3 with $4: Successful purchase!\n",
      "Buying item2 with $8: Successful purchase!\n",
      "Buying item5 with $5: Successful purchase!\n",
      "Buying item2 with $4: Successful purchase!\n",
      "Buying item1 with $5: Successful purchase!\n",
      "Buying item5 with $4: Sold Out!!\n",
      "Buying item1 with $10: Successful purchase!\n",
      "Buying item4 with $10: Successful purchase!\n",
      "Buying item3 with $8: Successful purchase!\n",
      "Buying item3 with $5: Successful purchase!\n",
      "Buying item1 with $5: Sold Out!!\n",
      "Buying item1 with $3: Sold Out!!\n",
      "Buying item2 with $8: Successful purchase!\n",
      "Buying item5 with $9: Sold Out!!\n",
      "Buying item5 with $6: Sold Out!!\n",
      "Buying item3 with $5: Successful purchase!\n",
      "Buying item2 with $6: Successful purchase!\n",
      "\n",
      "Final State:\n",
      "\n",
      "Money: 52\n",
      "Items: 5\n",
      "  item1: price: 3, amount: 0\n",
      "  item2: price: 4, amount: 1\n",
      "  item3: price: 4, amount: 4\n",
      "  item4: price: 5, amount: 6\n",
      "  item5: price: 4, amount: 0\n",
      "\n",
      "History:\n",
      "Item purchased: item1 - payed: 5\n",
      "Item purchased: item3 - payed: 4\n",
      "Item purchased: item2 - payed: 8\n",
      "Item purchased: item5 - payed: 5\n",
      "Item purchased: item2 - payed: 4\n",
      "Item purchased: item1 - payed: 5\n",
      "Item purchased: item1 - payed: 10\n",
      "Item purchased: item4 - payed: 10\n",
      "Item purchased: item3 - payed: 8\n",
      "Item purchased: item3 - payed: 5\n",
      "Item purchased: item2 - payed: 8\n",
      "Item purchased: item3 - payed: 5\n",
      "Item purchased: item2 - payed: 6\n"
     ]
    }
   ],
   "source": [
    "from random import randint as rnd\n",
    "\n",
    "class item():\n",
    "    def __init__(self, price, amount):\n",
    "        self.price = price\n",
    "        self.amount = amount\n",
    "             \n",
    "    def __repr__(self):\n",
    "        return f'price: {self.price}, amount: {self.amount}'\n",
    "        \n",
    "    def __str__(self):\n",
    "        return f'price: {self.price}, amount: {self.amount}'\n",
    "\n",
    "class vending_machine():\n",
    "    def __init__(self, n):\n",
    "        self.money = rnd(0, 3)\n",
    "        self.n = n\n",
    "        self.items = {'item'+str(x+1):item(rnd(1, 5), rnd(1, 8)) for x in range(n)}\n",
    "        self.history = []\n",
    "        \n",
    "    def __str__(self):\n",
    "        s = f'Money: {self.money}\\n'\n",
    "        s += f'Items: {self.n}\\n'\n",
    "        for it in self.items.keys():\n",
    "            s += f'  {it}: {self.items[it]}\\n'\n",
    "        return s\n",
    "    \n",
    "    def print_history(self):\n",
    "        for p in self.history:\n",
    "            print(f'Item purchased: {p[0]} - payed: {p[1]}')\n",
    "    \n",
    "    def update(self, it, pay):\n",
    "        if self.items[it].amount == 0:\n",
    "            return 0\n",
    "        if self.money < pay - self.items[it].price:\n",
    "            return 1\n",
    "        \n",
    "        self.items[it].amount -= 1\n",
    "        self.money += self.items[it].price\n",
    "        self.history.append([it, pay])\n",
    "        return 2\n",
    "        \n",
    "\n",
    "def Simulation(n, t):\n",
    "    mach = vending_machine(n);\n",
    "    \n",
    "    print('Initial State:')\n",
    "    print()\n",
    "    print(mach)\n",
    "    \n",
    "    for i in range(t):\n",
    "        x = rnd(0, n-1)\n",
    "        y = 'item' + str(x+1)\n",
    "        pay = rnd(mach.items[y].price, 10)\n",
    "        \n",
    "        print(f'Buying {y} with ${pay}: ', end='')\n",
    "        status = mach.update(y, pay)\n",
    "        \n",
    "        if status == 0:\n",
    "            print('Sold Out!!')\n",
    "        elif status == 1:\n",
    "            print('The machine doesn\\'t have money to return!!')\n",
    "        else:\n",
    "            print('Successful purchase!')\n",
    "            \n",
    "    print()\n",
    "    print('Final State:') \n",
    "    print()\n",
    "    print(mach)\n",
    "    print('History:')\n",
    "    mach.print_history()\n",
    "    \n",
    "        \n",
    "Simulation(5, 20)"
   ]
  },
  {
   "cell_type": "markdown",
   "metadata": {},
   "source": [
    "#### Excersise 6\n",
    "\n",
    "Clear your current repository (remove all useless files).\n",
    "Then create a package named `assignment01`.\n",
    "\n",
    "In the `assignment01` package you should have two `.py` files:\n",
    "\n",
    "```\n",
    "get_date.py\n",
    "get_time.py\n",
    "```\n",
    "File `get_date.py` contains only function `ding()` which returns the current date in format `yyyy-mm-dd`\n",
    "\n",
    "File `get_date.py` contains only function `dong()` which  returns the current time in 24h format `hh:mm:ss`\n",
    "\n",
    "Import these files and call the functions in the next cell."
   ]
  },
  {
   "cell_type": "code",
   "execution_count": 15,
   "metadata": {},
   "outputs": [
    {
     "name": "stdout",
     "output_type": "stream",
     "text": [
      "2021-11-16\n",
      "10:42:51\n"
     ]
    }
   ],
   "source": [
    "from assignment01 import get_date, get_time\n",
    "\n",
    "print(get_date.ding())\n",
    "print(get_time.dong())"
   ]
  },
  {
   "cell_type": "markdown",
   "metadata": {},
   "source": [
    "#### Excersise 7\n",
    "\n",
    "Create the `.gitignore` file in the current repository and enshure git will ignore jupyter notebook checkpoints (hint: check the hidden directories) and python cache."
   ]
  },
  {
   "cell_type": "markdown",
   "metadata": {},
   "source": [
    "_Here you should interact with the command prompt_"
   ]
  },
  {
   "cell_type": "markdown",
   "metadata": {},
   "source": [
    "#### Excersise 8\n",
    "Create folder `shell_tools` in your repository.\n",
    "\n",
    "Solve the excersises from [this lesson](https://missing.csail.mit.edu/2020/shell-tools/) from the brilliant course by MIT: https://missing.csail.mit.edu\n",
    "\n",
    "Place your solutions in the `shell_tools` directory. It should contain one file for each step except step 2 (named `step0*`) with bash commands. Step 2 already requires you to write `marco` and `polo` scripts)."
   ]
  },
  {
   "cell_type": "markdown",
   "metadata": {},
   "source": [
    "_Here you should interact with the command prompt_"
   ]
  },
  {
   "cell_type": "markdown",
   "metadata": {},
   "source": [
    "#### Excersise 9\n",
    "\n",
    "Move this notebook to the repository directory (unless it is already there), commit and push all updates to the remote. Thes sync it to the local machine and check that this exact notebook runs (Kernel –> Restart and run all) without any changes."
   ]
  },
  {
   "cell_type": "code",
   "execution_count": null,
   "metadata": {},
   "outputs": [],
   "source": [
    "notebook_runs_on_local_machine_without_any_changes = # True or False \n",
    "assert notebook_runs_on_local_machine_without_any_changes"
   ]
  },
  {
   "cell_type": "markdown",
   "metadata": {},
   "source": [
    "### Sumbitting your home assignment\n",
    "Push your results to the remote repository and share the link to it in the Google Classroom.\n",
    "\n",
    "Congratulations!"
   ]
  }
 ],
 "metadata": {
  "kernelspec": {
   "display_name": "Python 3",
   "language": "python",
   "name": "python3"
  },
  "language_info": {
   "codemirror_mode": {
    "name": "ipython",
    "version": 3
   },
   "file_extension": ".py",
   "mimetype": "text/x-python",
   "name": "python",
   "nbconvert_exporter": "python",
   "pygments_lexer": "ipython3",
   "version": "3.6.9"
  }
 },
 "nbformat": 4,
 "nbformat_minor": 4
}
